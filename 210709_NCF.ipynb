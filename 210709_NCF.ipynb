{
  "nbformat": 4,
  "nbformat_minor": 0,
  "metadata": {
    "colab": {
      "name": "210709_NCF.ipynb",
      "provenance": [],
      "authorship_tag": "ABX9TyObf9Ke5p1tp4/ZnwTsYGqa"
    },
    "kernelspec": {
      "name": "python3",
      "display_name": "Python 3"
    },
    "language_info": {
      "name": "python"
    }
  },
  "cells": [
    {
      "cell_type": "markdown",
      "metadata": {
        "id": "kntE3ffXZ7zI"
      },
      "source": [
        "# Section 1: interact_status"
      ]
    },
    {
      "cell_type": "code",
      "metadata": {
        "colab": {
          "base_uri": "https://localhost:8080/"
        },
        "id": "rS9BeC6PHp-h",
        "outputId": "722f0ef6-ed6e-4bf0-ee3d-99f57e31eed0"
      },
      "source": [
        "import pandas as pd\n",
        "import numpy as np\n",
        "import random\n",
        "\n",
        "data = [[1,11,2,13142],[1,12,5,24132],[2,21,3,35123],[2,22,4,22121],[2,23,1,23111],[3,31,2,11312],[3,32,1,13412]]\n",
        "df = pd.DataFrame(data)\n",
        "df.columns = ['userId', 'movieId', 'rating', 'timestamp']\n",
        "print(\"[Data]\")\n",
        "print(df)\n",
        "print('\\n')\n",
        "item_pool = set(df['movieId'].unique())\n",
        "\n",
        "#NCF-PT_ejlee\n",
        "interact_status = df.groupby('userId')['movieId'].apply(set).reset_index().rename (columns = {'movieId': 'interacted_items'})\n",
        "print(\"[Interact_status: A]\")\n",
        "print(interact_status)\n",
        "print('\\n')\n",
        "print(\"[Interact_status: B]\")\n",
        "interact_status['negative_items'] = interact_status['interacted_items'].apply(lambda x: item_pool - x)\n",
        "print(interact_status)\n",
        "print('\\n')\n",
        "print(\"[Interact_status: C]\")\n",
        "interact_status['negative_samples'] = interact_status['negative_items'].apply(lambda x: random.sample(x, 3))\n",
        "print(interact_status)\n"
      ],
      "execution_count": 6,
      "outputs": [
        {
          "output_type": "stream",
          "text": [
            "[Data]\n",
            "   userId  movieId  rating  timestamp\n",
            "0       1       11       2      13142\n",
            "1       1       12       5      24132\n",
            "2       2       21       3      35123\n",
            "3       2       22       4      22121\n",
            "4       2       23       1      23111\n",
            "5       3       31       2      11312\n",
            "6       3       32       1      13412\n",
            "\n",
            "\n",
            "[Interact_status: A]\n",
            "   userId interacted_items\n",
            "0       1         {11, 12}\n",
            "1       2     {21, 22, 23}\n",
            "2       3         {32, 31}\n",
            "\n",
            "\n",
            "[Interact_status: B]\n",
            "   userId interacted_items        negative_items\n",
            "0       1         {11, 12}  {32, 21, 22, 23, 31}\n",
            "1       2     {21, 22, 23}      {32, 11, 12, 31}\n",
            "2       3         {32, 31}  {11, 12, 21, 22, 23}\n",
            "\n",
            "\n",
            "[Interact_status: C]\n",
            "   userId interacted_items        negative_items negative_samples\n",
            "0       1         {11, 12}  {32, 21, 22, 23, 31}     [31, 23, 32]\n",
            "1       2     {21, 22, 23}      {32, 11, 12, 31}     [32, 31, 12]\n",
            "2       3         {32, 31}  {11, 12, 21, 22, 23}     [23, 12, 21]\n"
          ],
          "name": "stdout"
        }
      ]
    },
    {
      "cell_type": "markdown",
      "metadata": {
        "id": "LTurMwNYXB9r"
      },
      "source": [
        "interated_items: 시청한 영화리스트\n",
        "\n",
        "negative_items: 시청하지 않은 영화리스트\n",
        "\n",
        "실제는 99개의 샘플링을 하지만, 여기서는 예시 데이터가 적기 때문에 3개만 샘플링 -> negative_samples\n"
      ]
    },
    {
      "cell_type": "markdown",
      "metadata": {
        "id": "BE_FfiyyaMsv"
      },
      "source": [
        "# Section 2: train\n"
      ]
    },
    {
      "cell_type": "code",
      "metadata": {
        "colab": {
          "base_uri": "https://localhost:8080/"
        },
        "id": "NHobU8B5Xbpm",
        "outputId": "5a34ed15-26dd-435e-bcb1-a45960b5d8fb"
      },
      "source": [
        "df['rank_latest'] = df.groupby(['userId'])['timestamp'].rank(method='first', ascending=False)\n",
        "print(df)\n",
        "print('\\n')\n",
        "print(\"[Train Data]\")\n",
        "train = df[df['rank_latest']>1]\n",
        "print(train)"
      ],
      "execution_count": 7,
      "outputs": [
        {
          "output_type": "stream",
          "text": [
            "   userId  movieId  rating  timestamp  rank_latest\n",
            "0       1       11       2      13142          2.0\n",
            "1       1       12       5      24132          1.0\n",
            "2       2       21       3      35123          1.0\n",
            "3       2       22       4      22121          3.0\n",
            "4       2       23       1      23111          2.0\n",
            "5       3       31       2      11312          2.0\n",
            "6       3       32       1      13412          1.0\n",
            "\n",
            "\n",
            "[Train Data]\n",
            "   userId  movieId  rating  timestamp  rank_latest\n",
            "0       1       11       2      13142          2.0\n",
            "3       2       22       4      22121          3.0\n",
            "4       2       23       1      23111          2.0\n",
            "5       3       31       2      11312          2.0\n"
          ],
          "name": "stdout"
        }
      ]
    },
    {
      "cell_type": "markdown",
      "metadata": {
        "id": "-IJX31TZXs_e"
      },
      "source": [
        "1. userId로 group화한 후 timestamp 기준으로 랭킹\n",
        "\n",
        "2. rank_latest 값이 1보다 크면 train 데이터로 분류 (else, test data)\n",
        "> 이 과정을 생략"
      ]
    },
    {
      "cell_type": "markdown",
      "metadata": {
        "id": "fWsUKkxFaRYc"
      },
      "source": [
        "# Section 3: train_rating"
      ]
    },
    {
      "cell_type": "code",
      "metadata": {
        "colab": {
          "base_uri": "https://localhost:8080/"
        },
        "id": "9-n_CA8_X-5d",
        "outputId": "2a3faa7a-c6e6-4fd3-c54a-564f3b1ecd2c"
      },
      "source": [
        "train_rating = pd.merge(train,interact_status[['userId','negative_items']], on='userId')\n",
        "print(\"[Train + Interact_status]\")\n",
        "print(train_rating)"
      ],
      "execution_count": 8,
      "outputs": [
        {
          "output_type": "stream",
          "text": [
            "[Train + Interact_status]\n",
            "   userId  movieId  rating  timestamp  rank_latest        negative_items\n",
            "0       1       11       2      13142          2.0  {32, 21, 22, 23, 31}\n",
            "1       2       22       4      22121          3.0      {32, 11, 12, 31}\n",
            "2       2       23       1      23111          2.0      {32, 11, 12, 31}\n",
            "3       3       31       2      11312          2.0  {11, 12, 21, 22, 23}\n"
          ],
          "name": "stdout"
        }
      ]
    },
    {
      "cell_type": "markdown",
      "metadata": {
        "id": "EneHu8k1YEnx"
      },
      "source": [
        "`train data`와 `interact_status`를 합침 = `train_rating`\n",
        "> 이 과정도 생략. "
      ]
    },
    {
      "cell_type": "markdown",
      "metadata": {
        "id": "nr3yfZeJaYiX"
      },
      "source": [
        "# Section 4: Sampling (num_negatives)"
      ]
    },
    {
      "cell_type": "code",
      "metadata": {
        "colab": {
          "base_uri": "https://localhost:8080/"
        },
        "id": "UmFRGNOtYOkX",
        "outputId": "02d323e1-68c3-4a6e-d6ab-aacd2ce16112"
      },
      "source": [
        "train_rating['negatives'] = train_rating['negative_items'].apply(lambda x: random.sample(x, 4))\n",
        "print(train_rating)"
      ],
      "execution_count": 5,
      "outputs": [
        {
          "output_type": "stream",
          "text": [
            "   userId  movieId  rating  ...  rank_latest        negative_items         negatives\n",
            "0       1       11       2  ...          2.0  {32, 21, 22, 23, 31}  [32, 21, 22, 23]\n",
            "1       2       22       4  ...          3.0      {32, 11, 12, 31}  [31, 12, 32, 11]\n",
            "2       2       23       1  ...          2.0      {32, 11, 12, 31}  [12, 32, 11, 31]\n",
            "3       3       31       2  ...          2.0  {11, 12, 21, 22, 23}  [23, 22, 12, 21]\n",
            "\n",
            "[4 rows x 7 columns]\n"
          ],
          "name": "stdout"
        }
      ]
    },
    {
      "cell_type": "markdown",
      "metadata": {
        "id": "0ZwhXjqIZQuY"
      },
      "source": [
        "train_rating 에서 num_negative(here, 4)만큼 negative sample 뽑음"
      ]
    },
    {
      "cell_type": "markdown",
      "metadata": {
        "id": "yJ8lN9UuXiqh"
      },
      "source": [
        ""
      ]
    }
  ]
}